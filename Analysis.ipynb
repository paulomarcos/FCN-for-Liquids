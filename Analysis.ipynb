{
 "cells": [
  {
   "cell_type": "code",
   "execution_count": 2,
   "metadata": {},
   "outputs": [],
   "source": [
    "import os\n",
    "import cv2\n",
    "import glob\n",
    "import numpy as np\n",
    "from matplotlib import pyplot as plt"
   ]
  },
  {
   "cell_type": "code",
   "execution_count": 6,
   "metadata": {},
   "outputs": [
    {
     "name": "stderr",
     "output_type": "stream",
     "text": [
      "/home/gother/.local/lib/python3.5/site-packages/ipykernel_launcher.py:25: RuntimeWarning: invalid value encountered in long_scalars\n"
     ]
    },
    {
     "name": "stdout",
     "output_type": "stream",
     "text": [
      "0.9524 44\n",
      "0.9764 109\n",
      "0.9488 119\n",
      "0.5016 120\n",
      "0.9358 43\n",
      "0.9499 383\n",
      "0.9465 117\n",
      "0.9736 385\n",
      "0.2417 202\n",
      "0.9849 108\n"
     ]
    }
   ],
   "source": [
    "testdatapath = \"runs/keio_nirct_withnir_25epochs/\"\n",
    "order = testdatapath+\"order.txt\"\n",
    "\n",
    "groundtruthpath = []\n",
    "file = open(order, \"r\")\n",
    "for line in file:\n",
    "    groundtruthpath.append(line[3:-1])\n",
    "\n",
    "result = []\n",
    "i = 0\n",
    "for path in groundtruthpath:\n",
    "    x = []\n",
    "    for gt_img_path in sorted(glob.glob(path+\"/ground_truth*.png\")):\n",
    "        gt_img = cv2.imread(gt_img_path)#, cv2.IMREAD_UNCHANGED)\n",
    "        gt_img = cv2.resize(gt_img, (192, 192))\n",
    "        \n",
    "        img_number = gt_img_path[-9:]\n",
    "        test_img_path = testdatapath+\"result_\"+str(i)+\"_color\"+img_number\n",
    "        test_img = cv2.imread(test_img_path)#, cv2.IMREAD_UNCHANGED)\n",
    "        \n",
    "        #test_img = cv2.resize(test_img, (192, 192))\n",
    "\n",
    "        intersection = np.logical_and(gt_img, test_img)\n",
    "        union = np.logical_or(gt_img, test_img)\n",
    "        iou_score = np.sum(intersection) / np.sum(union)\n",
    "        if np.isnan(iou_score):\n",
    "            iou_score = 1\n",
    "        else:\n",
    "            iou_score = round(iou_score, 5)\n",
    "        \n",
    "        #plt.imshow(test_img)\n",
    "        #plt.show()\n",
    "        #plt.imshow(gt_img)\n",
    "        #plt.show()\n",
    "        #print(iou_score)\n",
    "        #print(\"------------------------------------\")\n",
    "        \n",
    "        x.append(iou_score)\n",
    "    result.append(x)\n",
    "    i += 1\n",
    "\n",
    "for r in result:\n",
    "    average = np.sum(r) / len(r)\n",
    "    print(round(average, 4), len(r))"
   ]
  },
  {
   "cell_type": "code",
   "execution_count": 8,
   "metadata": {},
   "outputs": [
    {
     "name": "stdout",
     "output_type": "stream",
     "text": [
      "0\n"
     ]
    }
   ],
   "source": []
  },
  {
   "cell_type": "code",
   "execution_count": 9,
   "metadata": {},
   "outputs": [
    {
     "name": "stdout",
     "output_type": "stream",
     "text": [
      "0\n"
     ]
    }
   ],
   "source": [
    "j = [1, 1, 1, 1, 0]\n",
    "for i in j:\n",
    "    if i == 1:\n",
    "        continue\n",
    "    print(i)"
   ]
  },
  {
   "cell_type": "code",
   "execution_count": 13,
   "metadata": {},
   "outputs": [
    {
     "name": "stdout",
     "output_type": "stream",
     "text": [
      "9876.png\n"
     ]
    }
   ],
   "source": [
    "k = \"omg my _9876.png\"\n",
    "print(k[-8:])"
   ]
  },
  {
   "cell_type": "code",
   "execution_count": null,
   "metadata": {},
   "outputs": [],
   "source": []
  }
 ],
 "metadata": {
  "kernelspec": {
   "display_name": "Python 3",
   "language": "python",
   "name": "python3"
  },
  "language_info": {
   "codemirror_mode": {
    "name": "ipython",
    "version": 3
   },
   "file_extension": ".py",
   "mimetype": "text/x-python",
   "name": "python",
   "nbconvert_exporter": "python",
   "pygments_lexer": "ipython3",
   "version": "3.5.2"
  }
 },
 "nbformat": 4,
 "nbformat_minor": 2
}
